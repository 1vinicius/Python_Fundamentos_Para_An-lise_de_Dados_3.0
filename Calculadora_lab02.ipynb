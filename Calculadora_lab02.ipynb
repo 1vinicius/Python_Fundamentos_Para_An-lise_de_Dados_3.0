{
 "cells": [
  {
   "cell_type": "code",
   "execution_count": 36,
   "id": "285680bc",
   "metadata": {},
   "outputs": [
    {
     "name": "stdout",
     "output_type": "stream",
     "text": [
      "          Calculadora em Python            \n",
      "\n",
      "\n",
      "Selecione a operação que deseja realizar\n",
      "1 - Soma\n",
      "2 - Subtração\n",
      "3 - Multiplicação\n",
      "4 - Divisão\n",
      "\n",
      "\n",
      "Digite a opção desejada: 3\n",
      "Digite o primeiro numero: 1234\n",
      "Digite o segundo numero: 1234\n",
      "o resultado de 1234 X 1234 é:  1522756\n"
     ]
    }
   ],
   "source": [
    "print(\"          Calculadora em Python            \") \n",
    "print(\"\")\n",
    "print(\"\")\n",
    "print(\"Selecione a operação que deseja realizar\")\n",
    "print(\"1 - Soma\")\n",
    "print(\"2 - Subtração\")\n",
    "print(\"3 - Multiplicação\")\n",
    "print(\"4 - Divisão\")\n",
    "print(\"\")\n",
    "print(\"\")\n",
    "\n",
    "opc = int(input(\"Digite a opção desejada: \" ))\n",
    "num1 = int(input(\"Digite o primeiro numero: \"))\n",
    "num2 = int(input(\"Digite o segundo numero: \"))\n",
    "    \n",
    "if opc == 1:\n",
    "    soma = num1 + num2 \n",
    "    print(\"o resultado de \", num1,  \"+\", num2 , \"é:\", soma)\n",
    "\n",
    "elif opc == 2:\n",
    "    sub = num1 - num2\n",
    "    print(\"o resultado de \", num1,  \"-\", num2 , \"é:\", sub)\n",
    "\n",
    "elif opc == 3:\n",
    "    mult = num1 * num2\n",
    "    print(\"o resultado de\", num1, \"X\", num2, \"é: \", mult)\n",
    "\n",
    "elif opc == 4:\n",
    "    div = num1 / num2\n",
    "    print(\"o resultado de\", num1, \"/\", num2, \"é: \", div)\n",
    "\n",
    "else:\n",
    "    print(\"Opção invalida\")\n",
    "    "
   ]
  },
  {
   "cell_type": "code",
   "execution_count": null,
   "id": "bd2637dd",
   "metadata": {},
   "outputs": [],
   "source": []
  }
 ],
 "metadata": {
  "kernelspec": {
   "display_name": "Python 3 (ipykernel)",
   "language": "python",
   "name": "python3"
  },
  "language_info": {
   "codemirror_mode": {
    "name": "ipython",
    "version": 3
   },
   "file_extension": ".py",
   "mimetype": "text/x-python",
   "name": "python",
   "nbconvert_exporter": "python",
   "pygments_lexer": "ipython3",
   "version": "3.9.12"
  }
 },
 "nbformat": 4,
 "nbformat_minor": 5
}
